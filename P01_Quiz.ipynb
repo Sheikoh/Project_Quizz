{
 "cells": [
  {
   "cell_type": "markdown",
   "metadata": {
    "colab_type": "text",
    "id": "FY347VxWs_bJ"
   },
   "source": [
    "# Build a quizz\n",
    "\n",
    "---\n",
    "\n",
    "\n"
   ]
  },
  {
   "cell_type": "markdown",
   "metadata": {
    "colab_type": "text",
    "id": "qJizpyqVwYnF"
   },
   "source": [
    "Let's tackle our first project together. Find a partner and start coding a quiz together! Your program should: \n",
    "\n",
    "1. Ask a question to a user via the console \n",
    "2. Verify whether the answer is correct or not \n",
    "3. If the answer is correct, you should print out: `Good job! This is the right answer`\n",
    "\n",
    "* Else, it should print out : `Too bad! that is not the correct answer`\n",
    "\n",
    "4. Ask three questions following this model.\n",
    "\n"
   ]
  },
  {
   "cell_type": "code",
   "execution_count": 3,
   "metadata": {},
   "outputs": [],
   "source": [
    "def first_quizz():\n",
    "    quizz = {\"What is the squareroot of 9?\": \"3\",\n",
    "             \"How many eyes do I have ?\": \"2\",\n",
    "             \"Who is the CEO of Tesla?\": \"elon musk\"}\n",
    "\n",
    "    for question, answer in quizz.items():\n",
    "\n",
    "        guess = input(question)\n",
    "        print(f\"Your answer : {guess}\")\n",
    "        if isinstance(guess, str):\n",
    "            guess = guess.lower()\n",
    "            print(f\"Your answer after .lower() function : {guess}\")\n",
    "        if guess == answer:\n",
    "            print(\"Good job! This is the right answer\")  \n",
    "        else:\n",
    "            print(\"Too bad! That is not the correct answer\")\n",
    "    "
   ]
  },
  {
   "cell_type": "code",
   "execution_count": 4,
   "metadata": {},
   "outputs": [
    {
     "name": "stdout",
     "output_type": "stream",
     "text": [
      "Your answer : 3\n",
      "Your answer after .lower() function : 3\n",
      "Good job! This is the right answer\n",
      "Your answer : 2\n",
      "Your answer after .lower() function : 2\n",
      "Good job! This is the right answer\n",
      "Your answer : 5\n",
      "Your answer after .lower() function : 5\n",
      "Too bad! That is not the correct answer\n"
     ]
    }
   ],
   "source": [
    "first_quizz()"
   ]
  },
  {
   "cell_type": "code",
   "execution_count": null,
   "metadata": {
    "colab": {
     "base_uri": "https://localhost:8080/",
     "height": 136
    },
    "colab_type": "code",
    "id": "EQxWuVl7yFoU",
    "outputId": "cf3ee10c-9d8f-4d96-82b0-f730321d4a2f"
   },
   "outputs": [
    {
     "name": "stdout",
     "output_type": "stream",
     "text": [
      "Here you have our quiz !\n",
      "-------\n",
      "\n",
      "Your answer : 3\n",
      "Too bad! That is not the correct answer\n",
      "Your answer : 2\n",
      "Too bad! That is not the correct answer\n",
      "Your answer : Elon Musk\n",
      "Your answer after .lower() function : elon musk\n",
      "Good job! This is the right answer\n"
     ]
    }
   ],
   "source": []
  },
  {
   "cell_type": "markdown",
   "metadata": {
    "colab_type": "text",
    "id": "sLMbYgaOyxiX"
   },
   "source": [
    "There's a problem with our quizz : if the user has not given the right answer, the program goes to next question. We would rather like to ask again the same question if the answer was wrong.\n",
    "\n",
    "5. Using a `while` loop, make sure that the same question will be asked again when the answer was wrong\n",
    "\n",
    "6. Rewrite your code such that this behaviour is applied to all questions."
   ]
  },
  {
   "cell_type": "code",
   "execution_count": null,
   "metadata": {
    "colab": {
     "base_uri": "https://localhost:8080/",
     "height": 170
    },
    "colab_type": "code",
    "id": "csyxqJzBxPfN",
    "outputId": "0e671bec-2b70-424e-f110-d4792423dd7a"
   },
   "outputs": [],
   "source": [
    "def second_quizz():\n",
    "    # define the questions used in a dictionary\n",
    "    quizz = {\"What is the squareroot of 9?\": \"3\",\n",
    "             \"How many eyes do I have ?\": \"2\",\n",
    "             \"Who is the CEO of Tesla?\": \"elon musk\"}\n",
    "    nb_error = 0\n",
    "    max_error = 3\n",
    "    for question, answer in quizz.items():\n",
    "\n",
    "        guess = \"\"\n",
    "        while guess.lower()  != answer and nb_error < max_error:\n",
    "\n",
    "            guess= input(question)\n",
    "            print(f\"Your answer : {guess}\")\n",
    "\n",
    "            if guess.lower() == answer:\n",
    "                print(\"Good job! This is the right answer\")  \n",
    "            else:\n",
    "                nb_error += 1\n",
    "                print(f\"Too bad! That is not the correct answer. You have {max_error - nb_error} guess left.\")\n",
    "        \n",
    "        if nb_error == max_error:\n",
    "            break\n",
    "\n",
    "    if nb_error < max_error:\n",
    "        print(\"Congrats, you win the game!\")\n",
    "    else:\n",
    "        print(\"Too bad, you lost the game. Please try again !\")"
   ]
  },
  {
   "cell_type": "code",
   "execution_count": 11,
   "metadata": {},
   "outputs": [
    {
     "name": "stdout",
     "output_type": "stream",
     "text": [
      "Your answer : 2\n",
      "Too bad! That is not the correct answer. You have 2 left.\n",
      "Your answer : 2\n",
      "Too bad! That is not the correct answer. You have 1 left.\n",
      "Your answer : 2\n",
      "Too bad! That is not the correct answer. You have 0 left.\n",
      "Too bad, you lost the game. Please try again !\n"
     ]
    }
   ],
   "source": [
    "second_quizz()"
   ]
  },
  {
   "cell_type": "markdown",
   "metadata": {
    "colab_type": "text",
    "id": "nh4voWn8x3dM"
   },
   "source": [
    "Now, we would like to tackle a last problem : we want to allow only 3 wrong answers (among all questions).\n",
    "\n",
    "7. Improve your code : if the user makes 3 wrong answers, the program should stop and print (\"Too bad, you lost the game !\")\n"
   ]
  },
  {
   "cell_type": "code",
   "execution_count": 10,
   "metadata": {
    "colab": {},
    "colab_type": "code",
    "id": "rA-XJKh-orgc"
   },
   "outputs": [],
   "source": [
    "class Quizz():\n",
    "    ## Set de question par défaut\n",
    "    default_question = {\"What is the squareroot of 9?\": \"3\",\n",
    "                        \"How many eyes do I have ?\": \"2\",\n",
    "                        \"Who is the CEO of Tesla?\": \"elon musk\"}\n",
    "    def __init__(self, question = default_question, nb_questions = 3, max_error = 3): #default value is a dic ?\n",
    "        self.question = question\n",
    "        self.max_error = max_error\n",
    "        self.nb_error = 0 #Hard initiation because no question has been asked at the beginning of the Quizz\n",
    "        self.nb_questions = nb_questions\n",
    "    \n",
    "    def check_questions(self):\n",
    "        if type(self.question) is not dict:\n",
    "            raise TypeError(\"The question-answer provided are not placed in a dictionary\")\n",
    "            \n",
    "\n",
    "\n",
    "    def select_questions(self):\n",
    "        import random\n",
    "        if (self.nb_questions <= len(self.question)):\n",
    "            selected_questions = random.sample(list(self.question.items()), self.nb_questions)\n",
    "            self.selected_questions = {item[0]: item[1] for item in selected_questions}\n",
    "        else:\n",
    "            print(f\"Vous vouliez poser {self.nb_questions}, mais il n'y en a que {len(self.question)}. \\n Toutes les questions seront donc posées à la place\")\n",
    "            self.selected_questions = self.question\n",
    "        \n",
    "    def ask_question(self, question):\n",
    "\n",
    "        guess= input(question)\n",
    "        return guess\n",
    "\n",
    "    def check_answer(self, guess, answer):\n",
    "        wrong = (guess.lower() != answer)\n",
    "        if wrong:\n",
    "            print(f\"Too bad! That is not the correct answer. You have {self.max_error - self.nb_error} guess left.\")\n",
    "        else:\n",
    "            print(\"Good job! This is the right answer\") \n",
    "        return wrong\n",
    "\n",
    "\n",
    "    def start_quizz(self):\n",
    "        self.check_questions()\n",
    "        self.select_questions()\n",
    "        question_asked = 0\n",
    "        guess = None\n",
    "        for question, answer in self.selected_questions.items():\n",
    "            while guess != answer and self.nb_error < self.max_error:\n",
    "                guess = self.ask_question(question)\n",
    "                wrong = self.check_answer(guess, answer)\n",
    "                self.nb_error += wrong\n",
    "\n",
    "            if self.nb_error == self.max_error:\n",
    "                break\n",
    "\n",
    "        if self.nb_error < self.max_error:\n",
    "            print(\"Congrats, you win the game!\")\n",
    "        else:\n",
    "            print(\"Too bad, you lost the game. Please try again !\")\n",
    "\n",
    "\n",
    "\n",
    "                \n"
   ]
  },
  {
   "cell_type": "code",
   "execution_count": 11,
   "metadata": {},
   "outputs": [
    {
     "name": "stdout",
     "output_type": "stream",
     "text": [
      "Good job! This is the right answer\n",
      "Too bad! That is not the correct answer. You have 3 guess left.\n",
      "Too bad! That is not the correct answer. You have 2 guess left.\n",
      "Good job! This is the right answer\n",
      "Good job! This is the right answer\n",
      "Congrats, you win the game!\n"
     ]
    }
   ],
   "source": [
    "Essai = Quizz()\n",
    "Essai.start_quizz()"
   ]
  },
  {
   "cell_type": "code",
   "execution_count": null,
   "metadata": {},
   "outputs": [],
   "source": []
  }
 ],
 "metadata": {
  "colab": {
   "name": "Construire un quiz - SOLUTIONS S1-1A.ipynb",
   "provenance": []
  },
  "kernelspec": {
   "display_name": "JedhaTraining",
   "language": "python",
   "name": "python3"
  },
  "language_info": {
   "codemirror_mode": {
    "name": "ipython",
    "version": 3
   },
   "file_extension": ".py",
   "mimetype": "text/x-python",
   "name": "python",
   "nbconvert_exporter": "python",
   "pygments_lexer": "ipython3",
   "version": "3.13.5"
  }
 },
 "nbformat": 4,
 "nbformat_minor": 1
}
