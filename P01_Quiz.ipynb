{
 "cells": [
  {
   "cell_type": "markdown",
   "metadata": {
    "colab_type": "text",
    "id": "FY347VxWs_bJ"
   },
   "source": [
    "# Build a quizz\n",
    "\n",
    "---\n",
    "\n",
    "\n"
   ]
  },
  {
   "cell_type": "markdown",
   "metadata": {
    "colab_type": "text",
    "id": "qJizpyqVwYnF"
   },
   "source": [
    "Let's tackle our first project together. Find a partner and start coding a quiz together! Your program should: \n",
    "\n",
    "1. Ask a question to a user via the console \n",
    "2. Verify whether the answer is correct or not \n",
    "3. If the answer is correct, you should print out: `Good job! This is the right answer`\n",
    "\n",
    "* Else, it should print out : `Too bad! that is not the correct answer`\n",
    "\n",
    "4. Ask three questions following this model.\n",
    "\n"
   ]
  },
  {
   "cell_type": "code",
   "execution_count": 3,
   "metadata": {},
   "outputs": [],
   "source": [
    "def first_quizz():\n",
    "    quizz = {\"What is the squareroot of 9?\": \"3\",\n",
    "             \"How many eyes do I have ?\": \"2\",\n",
    "             \"Who is the CEO of Tesla?\": \"elon musk\"}\n",
    "\n",
    "    for question, answer in quizz.items():\n",
    "\n",
    "        guess = input(question)\n",
    "        print(f\"Your answer : {guess}\")\n",
    "        if isinstance(guess, str):\n",
    "            guess = guess.lower()\n",
    "            print(f\"Your answer after .lower() function : {guess}\")\n",
    "        if guess == answer:\n",
    "            print(\"Good job! This is the right answer\")  \n",
    "        else:\n",
    "            print(\"Too bad! That is not the correct answer\")\n",
    "    "
   ]
  },
  {
   "cell_type": "code",
   "execution_count": 4,
   "metadata": {},
   "outputs": [
    {
     "name": "stdout",
     "output_type": "stream",
     "text": [
      "Your answer : 3\n",
      "Your answer after .lower() function : 3\n",
      "Good job! This is the right answer\n",
      "Your answer : 2\n",
      "Your answer after .lower() function : 2\n",
      "Good job! This is the right answer\n",
      "Your answer : 5\n",
      "Your answer after .lower() function : 5\n",
      "Too bad! That is not the correct answer\n"
     ]
    }
   ],
   "source": [
    "first_quizz()"
   ]
  },
  {
   "cell_type": "code",
   "execution_count": null,
   "metadata": {
    "colab": {
     "base_uri": "https://localhost:8080/",
     "height": 136
    },
    "colab_type": "code",
    "id": "EQxWuVl7yFoU",
    "outputId": "cf3ee10c-9d8f-4d96-82b0-f730321d4a2f"
   },
   "outputs": [
    {
     "name": "stdout",
     "output_type": "stream",
     "text": [
      "Here you have our quiz !\n",
      "-------\n",
      "\n",
      "Your answer : 3\n",
      "Too bad! That is not the correct answer\n",
      "Your answer : 2\n",
      "Too bad! That is not the correct answer\n",
      "Your answer : Elon Musk\n",
      "Your answer after .lower() function : elon musk\n",
      "Good job! This is the right answer\n"
     ]
    }
   ],
   "source": []
  },
  {
   "cell_type": "markdown",
   "metadata": {
    "colab_type": "text",
    "id": "sLMbYgaOyxiX"
   },
   "source": [
    "There's a problem with our quizz : if the user has not given the right answer, the program goes to next question. We would rather like to ask again the same question if the answer was wrong.\n",
    "\n",
    "5. Using a `while` loop, make sure that the same question will be asked again when the answer was wrong\n",
    "\n",
    "6. Rewrite your code such that this behaviour is applied to all questions."
   ]
  },
  {
   "cell_type": "code",
   "execution_count": null,
   "metadata": {
    "colab": {
     "base_uri": "https://localhost:8080/",
     "height": 170
    },
    "colab_type": "code",
    "id": "csyxqJzBxPfN",
    "outputId": "0e671bec-2b70-424e-f110-d4792423dd7a"
   },
   "outputs": [],
   "source": [
    "def second_quizz():\n",
    "    quizz = {\"What is the squareroot of 9?\": \"3\",\n",
    "             \"How many eyes do I have ?\": \"2\",\n",
    "             \"Who is the CEO of Tesla?\": \"elon musk\"}\n",
    "    nb_error = 0\n",
    "    max_error = 3\n",
    "    for question, answer in quizz.items():\n",
    "\n",
    "        guess = \"\"\n",
    "        while guess.lower()  != answer and nb_error < max_error:\n",
    "\n",
    "            guess= input(question)\n",
    "            print(f\"Your answer : {guess}\")\n",
    "\n",
    "            if guess.lower() == answer:\n",
    "                print(\"Good job! This is the right answer\")  \n",
    "            else:\n",
    "                nb_error += 1\n",
    "                print(f\"Too bad! That is not the correct answer. You have {max_error - nb_error} guess left.\")\n",
    "        \n",
    "        if nb_error == max_error:\n",
    "            break\n",
    "\n",
    "    if nb_error < max_error:\n",
    "        print(\"Congrats, you win the game!\")\n",
    "    else:\n",
    "        print(\"Too bad, you lost the game. Please try again !\")"
   ]
  },
  {
   "cell_type": "code",
   "execution_count": 11,
   "metadata": {},
   "outputs": [
    {
     "name": "stdout",
     "output_type": "stream",
     "text": [
      "Your answer : 2\n",
      "Too bad! That is not the correct answer. You have 2 left.\n",
      "Your answer : 2\n",
      "Too bad! That is not the correct answer. You have 1 left.\n",
      "Your answer : 2\n",
      "Too bad! That is not the correct answer. You have 0 left.\n",
      "Too bad, you lost the game. Please try again !\n"
     ]
    }
   ],
   "source": [
    "second_quizz()"
   ]
  },
  {
   "cell_type": "markdown",
   "metadata": {
    "colab_type": "text",
    "id": "nh4voWn8x3dM"
   },
   "source": [
    "Now, we would like to tackle a last problem : we want to allow only 3 wrong answers (among all questions).\n",
    "\n",
    "7. Improve your code : if the user makes 3 wrong answers, the program should stop and print (\"Too bad, you lost the game !\")\n"
   ]
  },
  {
   "cell_type": "code",
   "execution_count": 3,
   "metadata": {
    "colab": {
     "base_uri": "https://localhost:8080/",
     "height": 170
    },
    "colab_type": "code",
    "id": "adKPQe1Hsi2g",
    "outputId": "45d36fc8-90ae-4f00-b73a-73b1e6e57e6e",
    "tags": []
   },
   "outputs": [
    {
     "name": "stdout",
     "output_type": "stream",
     "text": [
      "Welcome to our quizz!\n",
      "You have 3 lives.\n",
      "\n",
      "Question 1:\n",
      "Your answer : 6\n",
      "Sorry, you have 2 chances left\n",
      "Your answer : 2\n",
      "Question 2:\n",
      "Your answer : 1980\n",
      "Sorry, you have 1 chances left\n",
      "Your answer : 1976\n",
      "Question 3:\n",
      "Your answer : steve jobs\n",
      "Sorry, you have 0 chances left\n",
      "Oh no, you lost the quiz...\n"
     ]
    }
   ],
   "source": []
  },
  {
   "cell_type": "code",
   "execution_count": 0,
   "metadata": {
    "colab": {},
    "colab_type": "code",
    "id": "rA-XJKh-orgc"
   },
   "outputs": [],
   "source": []
  }
 ],
 "metadata": {
  "colab": {
   "name": "Construire un quiz - SOLUTIONS S1-1A.ipynb",
   "provenance": []
  },
  "kernelspec": {
   "display_name": "Python 3",
   "language": "python",
   "name": "python3"
  },
  "language_info": {
   "codemirror_mode": {
    "name": "ipython",
    "version": 3
   },
   "file_extension": ".py",
   "mimetype": "text/x-python",
   "name": "python",
   "nbconvert_exporter": "python",
   "pygments_lexer": "ipython3",
   "version": "3.13.5"
  }
 },
 "nbformat": 4,
 "nbformat_minor": 1
}
